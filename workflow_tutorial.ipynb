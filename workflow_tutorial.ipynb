{
 "cells": [
  {
   "cell_type": "markdown",
   "metadata": {},
   "source": [
    "# Workflow Tutorial for bio.agents Curation Agenting\n",
    "\n",
    "This document contains detailed steps for running the workflow after running Pub2Agents for a specific month. It takes the output log from Pub2Agents, separate json files with low-priority agents and preprints as input."
   ]
  },
  {
   "cell_type": "markdown",
   "metadata": {},
   "source": [
    "> For testing purposes, please copy and use a different document as this serves only as a tutorial."
   ]
  },
  {
   "cell_type": "markdown",
   "metadata": {},
   "source": [
    "We will start by importing all dependencies into the workspace:"
   ]
  },
  {
   "cell_type": "code",
   "execution_count": null,
   "metadata": {},
   "outputs": [],
   "source": [
    "import json\n",
    "from bioagents_dev import login_prod\n",
    "from agent_processing import process_agents\n",
    "from agent_validation import validate_agents\n",
    "from preprints import identify_preprints\n",
    "from utils.utils import check_date\n",
    "from utils.csv_utils import generate_csv\n",
    "from utils.json_utils import generate_json\n",
    "from bioagents_dev import add_agents"
   ]
  },
  {
   "cell_type": "markdown",
   "metadata": {},
   "source": [
    "We will now start with the actual workflow. To start, some variables need to be defined. The _to_curate_ variable is defined to decrease the number of agents to be manually curated.\n",
    "\n",
    "The output from Pub2Agents can include more than 700 possible agents every month, making it hard to manually curate everything and stay up to date to novel approaches.\n",
    "\n",
    "Therefore, the workflow was designed such that only high-priority agents are added into the curation worksheet while the rest are added to a low-priority file for potential future review. The priority of the agents is already defined by Pub2Agents, which ranks them based on the likelihood of their being useful agents, a pattern observed by previous curators. Hence, only the top-ranked agents - specified by the _to_curate_ variabke and excluding preprints - are selected for immediate addition to the monthly worksheet.   \n",
    "\n",
    "\n",
    "1. **Define run settings:**\n",
    "    * _to_curate_ (int || 'all'): number of published agents to be added to the database."
   ]
  },
  {
   "cell_type": "code",
   "execution_count": null,
   "metadata": {},
   "outputs": [],
   "source": [
    "to_curate = 100"
   ]
  },
  {
   "cell_type": "markdown",
   "metadata": {},
   "source": [
    "File paths for different files must be defined. These files include the output from Pub2Agents and json files or zip files with all preprints and low-priority agents. \n",
    "\n",
    "There should be a low-priority agent file for each month. For a new run, this file will be created.\n",
    "\n",
    "2. **Define file paths:**\n",
    "\n",
    "    * _json_file_ (str): path for json file with Pub2Agents output\n",
    "    * _pub2agents_log_ (str): path to existing output log file from Pub2Agents\n",
    "    * _preprints_file_ (str): path to existing json file with all of the preprints\n",
    "    * _low_priority_ (str): path to zip file with low priority agents"
   ]
  },
  {
   "cell_type": "code",
   "execution_count": null,
   "metadata": {},
   "outputs": [],
   "source": [
    "json_file = \"to_bioagents_sep22.json\"\n",
    "pub2agents_log = \"pub2agents.log\"\n",
    "preprints_file = \"data/preprints.json\"\n",
    "low_priority = \"data/low_agents.zip\""
   ]
  },
  {
   "cell_type": "markdown",
   "metadata": {},
   "source": [
    "Credentials are needed for the development version of the server to be able to upload the agents to dev.\n",
    "\n",
    "Make sure not to submit any credentials to the repository when making changes to the workflow!\n",
    "\n",
    "> Always create a copy of this file and do not make changes to the original one.\n",
    "\n",
    "\n",
    "3. **Define username and password.**"
   ]
  },
  {
   "cell_type": "code",
   "execution_count": null,
   "metadata": {},
   "outputs": [],
   "source": [
    "username = ''\n",
    "password = ''"
   ]
  },
  {
   "cell_type": "markdown",
   "metadata": {},
   "source": [
    "4. **Authentication.**"
   ]
  },
  {
   "cell_type": "code",
   "execution_count": null,
   "metadata": {},
   "outputs": [],
   "source": [
    "from bioagents_dev import login_prod\n",
    "\n",
    "token = login_prod(username, password)"
   ]
  },
  {
   "cell_type": "markdown",
   "metadata": {},
   "source": [
    "As mentioned before, Pub2Agents returns agents with a confidence flag, and we only consider the ones where this flag is set to \"high\". \n",
    "\n",
    "5. **Read Pub2Agents output** and get agents with **high confidence** score from json file."
   ]
  },
  {
   "cell_type": "code",
   "execution_count": null,
   "metadata": {},
   "outputs": [],
   "source": [
    "import json\n",
    "from agent_processing import process_agents\n",
    "\n",
    "with open(json_file,encoding=\"utf8\") as jf:\n",
    "    data = json.load(jf)\n",
    "    agents = data['list']\n",
    "\n",
    "processed_agents = process_agents(agents)"
   ]
  },
  {
   "cell_type": "markdown",
   "metadata": {},
   "source": [
    "**Agent validation**\n",
    "\n",
    "Agent validation goes through all the agents in the output from Pub2Agents and checks if there are errors using the bio.agents API.\n",
    "\n",
    "6. **Validate agents** and separate them into valid and problem agents."
   ]
  },
  {
   "cell_type": "code",
   "execution_count": null,
   "metadata": {},
   "outputs": [],
   "source": [
    "from agent_validation import validate_agents\n",
    "valid_agents, problem_agents = validate_agents(processed_agents, token)"
   ]
  },
  {
   "cell_type": "markdown",
   "metadata": {},
   "source": [
    "**Identify preprints**\n",
    "\n",
    "This section comprises two steps: first, we identify newly published preprints from the global preprints file. Then, we go through the list of valid agents and identify the preprints in that one and add them to the existing preprints file. \n",
    "\n",
    "7. Check if there are any newly published agents in _preprints_file_, and return only those with updated _publication_link_ and _is_preprint_ flag. Function will delete published preprints from _preprints_file_.\n",
    "\n",
    "Here, we set _rerun_ to 'true' because we are running the function on preprints that were already identified previously."
   ]
  },
  {
   "cell_type": "code",
   "execution_count": null,
   "metadata": {},
   "outputs": [],
   "source": [
    "from preprints import identify_preprints\n",
    "pubs_prp = identify_preprints(rerun = True, agents = None, json_prp = preprints_file)"
   ]
  },
  {
   "cell_type": "markdown",
   "metadata": {},
   "source": [
    "8. Repeat identification for validated agents. Return only publications. Function will update _preprints_file_ with identified preprints in _valid_agents_.\n",
    "\n",
    "In this case, _rerun_ is set to 'false' since we are running the function with agents from a new month."
   ]
  },
  {
   "cell_type": "code",
   "execution_count": null,
   "metadata": {},
   "outputs": [],
   "source": [
    "pubs = identify_preprints(rerun = False, agents = valid_agents, json_prp = preprints_file)"
   ]
  },
  {
   "cell_type": "markdown",
   "metadata": {},
   "source": [
    "**Create .csv file**\n",
    "\n",
    "Once we have the valid agents and the preprints, we can combine them in _agents_to_add_ and add these to a CSV file with the valid agents at the top and the newly published preprints at the bottom.\n",
    "\n",
    "The created file has 4 different columns: \n",
    "\n",
    "1. agent link in the development database  \n",
    "2. agent name   \n",
    "3. homepage   \n",
    "4. publication link.  \n",
    " \n",
    "The agents that are not included in this file (_agents_left_) will be added to a json file, as previously mentioned, and zipped with the other low priority files from previous months. \n",
    "\n",
    "9. Generate csv file from _to_curate_ first _pubs_ and all _pubs_prp_\n",
    "\n",
    "    Returns:\n",
    "    \n",
    "    * _agents_to_add_: agents to add to database \n",
    "    * _agents_left_: agents not in _agents_to_add."
   ]
  },
  {
   "cell_type": "code",
   "execution_count": null,
   "metadata": {},
   "outputs": [],
   "source": [
    "from utils.utils import check_date\n",
    "from utils.csv_utils import generate_csv\n",
    "\n",
    "file_date = check_date(pub2agents_log)\n",
    "agents_to_add, agents_left = generate_csv(pubs, pubs_prp, to_curate, file_date)\n",
    "\n"
   ]
  },
  {
   "cell_type": "markdown",
   "metadata": {},
   "source": [
    "**Create json files**\n",
    "\n",
    "9. Generate json file with agents that will not be curated and add the file to the existing zipped file."
   ]
  },
  {
   "cell_type": "code",
   "execution_count": null,
   "metadata": {},
   "outputs": [],
   "source": [
    "from utils.json_utils import generate_json\n",
    "\n",
    "generate_json(agents_left, file_date)"
   ]
  },
  {
   "cell_type": "code",
   "execution_count": 2,
   "metadata": {},
   "outputs": [],
   "source": [
    "import zipfile\n",
    "import os\n",
    "\n",
    "file_to_add = f\"./data/low_agents_{file_date[0]}_{file_date[1]}.json\"\n",
    "zip_path = \"./data/low_agents.zip\"\n",
    "\n",
    "with zipfile.ZipFile(zip_path, 'a') as zipf:\n",
    "    zipf.write(file_to_add, arcname=file_to_add.split('/')[-1])\n",
    "\n",
    "os.remove(file_to_add) # remove file after zipping"
   ]
  },
  {
   "cell_type": "markdown",
   "metadata": {},
   "source": [
    "**Add agents to dev**\n",
    "\n",
    "10. Add agents to add to the development version of bio.agents."
   ]
  },
  {
   "cell_type": "code",
   "execution_count": null,
   "metadata": {},
   "outputs": [],
   "source": [
    "from bioagents_dev import add_agents\n",
    "\n",
    "add_agents(agents_to_add, token, WRITE_TO_DB = True)\n"
   ]
  }
 ],
 "metadata": {
  "kernelspec": {
   "display_name": "Python 3",
   "language": "python",
   "name": "python3"
  },
  "language_info": {
   "codemirror_mode": {
    "name": "ipython",
    "version": 3
   },
   "file_extension": ".py",
   "mimetype": "text/x-python",
   "name": "python",
   "nbconvert_exporter": "python",
   "pygments_lexer": "ipython3",
   "version": "3.11.5"
  }
 },
 "nbformat": 4,
 "nbformat_minor": 2
}
